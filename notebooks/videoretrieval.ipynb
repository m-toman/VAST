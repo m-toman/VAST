{
 "cells": [
  {
   "cell_type": "code",
   "execution_count": 8,
   "metadata": {},
   "outputs": [],
   "source": [
    "import json\n",
    "import sys\n",
    "from pathlib import Path\n",
    "\n",
    "from easydict import EasyDict as edict"
   ]
  },
  {
   "cell_type": "code",
   "execution_count": 11,
   "metadata": {},
   "outputs": [
    {
     "name": "stdout",
     "output_type": "stream",
     "text": [
      "/home/ubuntu/VAST\n"
     ]
    },
    {
     "name": "stderr",
     "output_type": "stream",
     "text": [
      "/home/ubuntu/.cache/pypoetry/virtualenvs/libvast-Ju6CRI22-py3.10/lib/python3.10/site-packages/IPython/core/magics/osm.py:417: UserWarning: This is now an optional IPython functionality, setting dhist requires you to install the `pickleshare` library.\n",
      "  self.shell.db['dhist'] = compress_dhist(dhist)[-100:]\n"
     ]
    }
   ],
   "source": [
    "sys.path.append('..')\n",
    "%cd .."
   ]
  },
  {
   "cell_type": "code",
   "execution_count": 5,
   "metadata": {},
   "outputs": [],
   "source": [
    "from libvast.model.vast import VAST"
   ]
  },
  {
   "cell_type": "code",
   "execution_count": 13,
   "metadata": {},
   "outputs": [
    {
     "data": {
      "text/plain": [
       "{'model_type': 'vast',\n",
       " 'itm_ratio': 0.1,\n",
       " 'frozen_vision': False,\n",
       " 'frozen_audio': False,\n",
       " 'checkpointing': False,\n",
       " 'max_caption_len': 40,\n",
       " 'max_omni_caption_len': 70,\n",
       " 'max_subtitle_len': 70,\n",
       " 'contra_dim': 512,\n",
       " 'inherit_keys': ['vision_encoder_type',\n",
       "  'audio_encoder_type',\n",
       "  'audio_melbins',\n",
       "  'audio_target_length'],\n",
       " 'frame_embedding_type': 'adaptive',\n",
       " 'vision_resolution': 224,\n",
       " 'vision_encoder_type': 'evaclip01_giant',\n",
       " 'audio_encoder_type': 'beats',\n",
       " 'audio_melbins': 64,\n",
       " 'audio_target_length': 1024,\n",
       " 'beam_size': 3,\n",
       " 'captioner_mode': False,\n",
       " 'generate_nums': 1,\n",
       " 'ret_bidirection_evaluation': False,\n",
       " 'itm_rerank_num': 50,\n",
       " 'evaluation_type': 'evaluation_mm',\n",
       " 'max_vision_sample_num': 1,\n",
       " 'max_audio_sample_num': 1}"
      ]
     },
     "execution_count": 13,
     "metadata": {},
     "output_type": "execute_result"
    }
   ],
   "source": [
    "model_cfg = edict(json.load(Path('./config/vast/default_model_cfg.json').open()))\n",
    "model_cfg.max_vision_sample_num = 1 # TODO\n",
    "model_cfg.max_audio_sample_num = 1 # TODO\n",
    "model_cfg"
   ]
  },
  {
   "cell_type": "code",
   "execution_count": 29,
   "metadata": {},
   "outputs": [
    {
     "name": "stderr",
     "output_type": "stream",
     "text": [
      "/home/ubuntu/.cache/pypoetry/virtualenvs/libvast-Ju6CRI22-py3.10/lib/python3.10/site-packages/tqdm/auto.py:21: TqdmWarning: IProgress not found. Please update jupyter and ipywidgets. See https://ipywidgets.readthedocs.io/en/stable/user_install.html\n",
      "  from .autonotebook import tqdm as notebook_tqdm\n"
     ]
    },
    {
     "name": "stdout",
     "output_type": "stream",
     "text": [
      "748 25.0\n"
     ]
    },
    {
     "data": {
      "text/plain": [
       "torch.Size([5, 3, 224, 224])"
      ]
     },
     "execution_count": 29,
     "metadata": {},
     "output_type": "execute_result"
    }
   ],
   "source": [
    "# Video loading\n",
    "sample_num = 5\n",
    "vision_resolution = 224\n",
    "vision_encoder_type = \"evaclip01_giant\"\n",
    "video_path = \"dance.mp4\"\n",
    "\n",
    "import decord\n",
    "import torch\n",
    "from torchvision.transforms.transforms import *\n",
    "\n",
    "from libvast.utils.tool import split\n",
    "\n",
    "if vision_encoder_type.startswith(\"clip\") or vision_encoder_type.startswith(\"evaclip\"):\n",
    "    mean = [0.48145466, 0.4578275, 0.40821073]\n",
    "    std = [0.26862954, 0.26130258, 0.27577711]\n",
    "else:\n",
    "    mean = [0.485, 0.456, 0.406]\n",
    "    std = [0.229, 0.224, 0.225]\n",
    "\n",
    "\n",
    "transforms = Compose(\n",
    "    [\n",
    "        Resize(vision_resolution),\n",
    "        CenterCrop(vision_resolution),\n",
    "        Normalize(mean, std),\n",
    "    ]\n",
    ")\n",
    "\n",
    "container = decord.VideoReader(video_path)\n",
    "print(len(container), container.get_avg_fps())\n",
    "frames_ids = list(range(len(container)))\n",
    "frames_splited = split(frames_ids, sample_num)\n",
    "len(frames_splited), len(frames_splited[0])\n",
    "frames_splited[1]\n",
    "sample_idx = [i[(len(i) + 1) // 2 - 1] for i in frames_splited]\n",
    "sample_idx\n",
    "frames = container.get_batch(sample_idx).asnumpy()\n",
    "frames.shape\n",
    "\n",
    "frames = container.get_batch(sample_idx).asnumpy()\n",
    "vision_pixels = torch.from_numpy(frames.transpose(0, 3, 1, 2) / 255.0)  ### nX3xHxW\n",
    "vision_pixels = transforms(vision_pixels)\n",
    "vision_pixels.shape"
   ]
  },
  {
   "cell_type": "code",
   "execution_count": null,
   "metadata": {},
   "outputs": [],
   "source": [
    "# inference\n",
    "evaluation_dict = {}\n",
    "feat_t = self.batch_get(batch,'feat_t')\n",
    "evaluation_dict['feat_t'] = feat_t \n",
    "caption_tokens = self.batch_get(batch,'caption_tokens')\n",
    "evaluation_dict['input_ids'] = caption_tokens.input_ids\n",
    "evaluation_dict['attention_mask'] = caption_tokens.attention_mask\n",
    "for task in subtasks:\n",
    "#### compute_itc\n",
    "assert task in ['tv','ta','tva','tvs','tvas']\n",
    "feat_cond = self.batch_get(batch,f'feat_{task[1:]}')\n",
    "evaluation_dict[f'feat_cond_{task}'] = feat_cond\n",
    "\n",
    "condition_feats = self.batch_get(batch, f'condition_feats_{task[1:]}')\n",
    "evaluation_dict[f'condition_feats_{task}'] = condition_feats\n"
   ]
  },
  {
   "cell_type": "code",
   "execution_count": null,
   "metadata": {},
   "outputs": [],
   "source": []
  }
 ],
 "metadata": {
  "kernelspec": {
   "display_name": "libvast-Ju6CRI22-py3.10",
   "language": "python",
   "name": "python3"
  },
  "language_info": {
   "codemirror_mode": {
    "name": "ipython",
    "version": 3
   },
   "file_extension": ".py",
   "mimetype": "text/x-python",
   "name": "python",
   "nbconvert_exporter": "python",
   "pygments_lexer": "ipython3",
   "version": "3.10.12"
  }
 },
 "nbformat": 4,
 "nbformat_minor": 2
}
